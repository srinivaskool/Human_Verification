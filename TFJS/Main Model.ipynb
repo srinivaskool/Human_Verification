{
 "cells": [
  {
   "cell_type": "markdown",
   "metadata": {},
   "source": [
    "# Imports"
   ]
  },
  {
   "cell_type": "code",
   "execution_count": 1,
   "metadata": {},
   "outputs": [
    {
     "name": "stdout",
     "output_type": "stream",
     "text": [
      "WARNING:tensorflow:From c:\\users\\srini\\anaconda3\\envs\\tensorflow\\lib\\site-packages\\tensorflow\\python\\compat\\v2_compat.py:96: disable_resource_variables (from tensorflow.python.ops.variable_scope) is deprecated and will be removed in a future version.\n",
      "Instructions for updating:\n",
      "non-resource variables are not supported in the long term\n"
     ]
    }
   ],
   "source": [
    "import numpy as np\n",
    "import os\n",
    "import tensorflow.compat.v1 as tf\n",
    "tf.disable_v2_behavior()\n",
    "import time\n",
    "from sklearn.metrics import confusion_matrix"
   ]
  },
  {
   "cell_type": "code",
   "execution_count": 2,
   "metadata": {
    "scrolled": true
   },
   "outputs": [],
   "source": [
    "from numpy.random import seed\n",
    "seed(888)\n",
    "from tensorflow.compat.v1 import set_random_seed\n",
    "set_random_seed(404)"
   ]
  },
  {
   "cell_type": "markdown",
   "metadata": {},
   "source": [
    "## Constants"
   ]
  },
  {
   "cell_type": "code",
   "execution_count": 3,
   "metadata": {},
   "outputs": [],
   "source": [
    "X_TRAIN_PATH = 'MNIST/digit_xtrain.csv'\n",
    "X_TEST_PATH = 'MNIST/digit_xtest.csv'\n",
    "Y_TRAIN_PATH = 'MNIST/digit_ytrain.csv'\n",
    "Y_TEST_PATH = 'MNIST/digit_ytest.csv'\n",
    "\n",
    "LOGGING_PATH = 'tensorboard_mnist_digit_logs'\n",
    "\n",
    "NR_CLASSES = 10\n",
    "VALIDATION_SIZE = 10000\n",
    "IMAGE_WIDTH = 28\n",
    "IMAGE_HEIGHT = 28\n",
    "CHANNELS = 1\n",
    "TOTAL_INPUTS = IMAGE_WIDTH*IMAGE_HEIGHT*CHANNELS"
   ]
  },
  {
   "cell_type": "markdown",
   "metadata": {},
   "source": [
    "## Get Data"
   ]
  },
  {
   "cell_type": "code",
   "execution_count": 4,
   "metadata": {},
   "outputs": [
    {
     "data": {
      "text/plain": [
       "(60000,)"
      ]
     },
     "execution_count": 4,
     "metadata": {},
     "output_type": "execute_result"
    }
   ],
   "source": [
    "y_train_all = np.loadtxt(Y_TRAIN_PATH,delimiter=',',dtype=int)\n",
    "y_train_all.shape"
   ]
  },
  {
   "cell_type": "code",
   "execution_count": 5,
   "metadata": {},
   "outputs": [
    {
     "data": {
      "text/plain": [
       "(10000,)"
      ]
     },
     "execution_count": 5,
     "metadata": {},
     "output_type": "execute_result"
    }
   ],
   "source": [
    "y_test = np.loadtxt(Y_TEST_PATH,delimiter=',',dtype=int)\n",
    "y_test.shape"
   ]
  },
  {
   "cell_type": "code",
   "execution_count": 6,
   "metadata": {},
   "outputs": [
    {
     "data": {
      "text/plain": [
       "(60000, 784)"
      ]
     },
     "execution_count": 6,
     "metadata": {},
     "output_type": "execute_result"
    }
   ],
   "source": [
    "x_train_all = np.loadtxt(X_TRAIN_PATH,delimiter=',',dtype=int)\n",
    "x_train_all.shape"
   ]
  },
  {
   "cell_type": "code",
   "execution_count": 7,
   "metadata": {},
   "outputs": [
    {
     "data": {
      "text/plain": [
       "(10000, 784)"
      ]
     },
     "execution_count": 7,
     "metadata": {},
     "output_type": "execute_result"
    }
   ],
   "source": [
    "x_test = np.loadtxt(X_TEST_PATH,delimiter=',',dtype=int)\n",
    "x_test.shape"
   ]
  },
  {
   "cell_type": "markdown",
   "metadata": {},
   "source": [
    "## Explore"
   ]
  },
  {
   "cell_type": "code",
   "execution_count": 8,
   "metadata": {},
   "outputs": [
    {
     "data": {
      "text/plain": [
       "array([  0,   0,   0,   0,   0,   0,   0,   0,   0,   0,   0,   0,   0,\n",
       "         0,   0,   0,   0,   0,   0,   0,   0,   0,   0,   0,   0,   0,\n",
       "         0,   0,   0,   0,   0,   0,   0,   0,   0,   0,   0,   0,   0,\n",
       "         0,   0,   0,   0,   0,   0,   0,   0,   0,   0,   0,   0,   0,\n",
       "         0,   0,   0,   0,   0,   0,   0,   0,   0,   0,   0,   0,   0,\n",
       "         0,   0,   0,   0,   0,   0,   0,   0,   0,   0,   0,   0,   0,\n",
       "         0,   0,   0,   0,   0,   0,   0,   0,   0,   0,   0,   0,   0,\n",
       "         0,   0,   0,   0,   0,   0,   0,   0,   0,   0,   0,   0,   0,\n",
       "         0,   0,   0,   0,   0,   0,   0,   0,   0,   0,   0,   0,   0,\n",
       "         0,   0,   0,   0,   0,   0,   0,   0,   0,   0,   0,   0,   0,\n",
       "         0,   0,   0,   0,   0,   0,   0,   0,   0,   0,   0,   0,   0,\n",
       "         0,   0,   0,   0,   0,   0,   0,   0,   0,   3,  18,  18,  18,\n",
       "       126, 136, 175,  26, 166, 255, 247, 127,   0,   0,   0,   0,   0,\n",
       "         0,   0,   0,   0,   0,   0,   0,  30,  36,  94, 154, 170, 253,\n",
       "       253, 253, 253, 253, 225, 172, 253, 242, 195,  64,   0,   0,   0,\n",
       "         0,   0,   0,   0,   0,   0,   0,   0,  49, 238, 253, 253, 253,\n",
       "       253, 253, 253, 253, 253, 251,  93,  82,  82,  56,  39,   0,   0,\n",
       "         0,   0,   0,   0,   0,   0,   0,   0,   0,   0,  18, 219, 253,\n",
       "       253, 253, 253, 253, 198, 182, 247, 241,   0,   0,   0,   0,   0,\n",
       "         0,   0,   0,   0,   0,   0,   0,   0,   0,   0,   0,   0,   0,\n",
       "        80, 156, 107, 253, 253, 205,  11,   0,  43, 154,   0,   0,   0,\n",
       "         0,   0,   0,   0,   0,   0,   0,   0,   0,   0,   0,   0,   0,\n",
       "         0,   0,   0,  14,   1, 154, 253,  90,   0,   0,   0,   0,   0,\n",
       "         0,   0,   0,   0,   0,   0,   0,   0,   0,   0,   0,   0,   0,\n",
       "         0,   0,   0,   0,   0,   0,   0, 139, 253, 190,   2,   0,   0,\n",
       "         0,   0,   0,   0,   0,   0,   0,   0,   0,   0,   0,   0,   0,\n",
       "         0,   0,   0,   0,   0,   0,   0,   0,   0,  11, 190, 253,  70,\n",
       "         0,   0,   0,   0,   0,   0,   0,   0,   0,   0,   0,   0,   0,\n",
       "         0,   0,   0,   0,   0,   0,   0,   0,   0,   0,   0,   0,  35,\n",
       "       241, 225, 160, 108,   1,   0,   0,   0,   0,   0,   0,   0,   0,\n",
       "         0,   0,   0,   0,   0,   0,   0,   0,   0,   0,   0,   0,   0,\n",
       "         0,   0,  81, 240, 253, 253, 119,  25,   0,   0,   0,   0,   0,\n",
       "         0,   0,   0,   0,   0,   0,   0,   0,   0,   0,   0,   0,   0,\n",
       "         0,   0,   0,   0,   0,  45, 186, 253, 253, 150,  27,   0,   0,\n",
       "         0,   0,   0,   0,   0,   0,   0,   0,   0,   0,   0,   0,   0,\n",
       "         0,   0,   0,   0,   0,   0,   0,   0,  16,  93, 252, 253, 187,\n",
       "         0,   0,   0,   0,   0,   0,   0,   0,   0,   0,   0,   0,   0,\n",
       "         0,   0,   0,   0,   0,   0,   0,   0,   0,   0,   0,   0, 249,\n",
       "       253, 249,  64,   0,   0,   0,   0,   0,   0,   0,   0,   0,   0,\n",
       "         0,   0,   0,   0,   0,   0,   0,   0,   0,   0,   0,  46, 130,\n",
       "       183, 253, 253, 207,   2,   0,   0,   0,   0,   0,   0,   0,   0,\n",
       "         0,   0,   0,   0,   0,   0,   0,   0,   0,   0,   0,  39, 148,\n",
       "       229, 253, 253, 253, 250, 182,   0,   0,   0,   0,   0,   0,   0,\n",
       "         0,   0,   0,   0,   0,   0,   0,   0,   0,   0,   0,  24, 114,\n",
       "       221, 253, 253, 253, 253, 201,  78,   0,   0,   0,   0,   0,   0,\n",
       "         0,   0,   0,   0,   0,   0,   0,   0,   0,   0,   0,  23,  66,\n",
       "       213, 253, 253, 253, 253, 198,  81,   2,   0,   0,   0,   0,   0,\n",
       "         0,   0,   0,   0,   0,   0,   0,   0,   0,   0,   0,  18, 171,\n",
       "       219, 253, 253, 253, 253, 195,  80,   9,   0,   0,   0,   0,   0,\n",
       "         0,   0,   0,   0,   0,   0,   0,   0,   0,   0,   0,  55, 172,\n",
       "       226, 253, 253, 253, 253, 244, 133,  11,   0,   0,   0,   0,   0,\n",
       "         0,   0,   0,   0,   0,   0,   0,   0,   0,   0,   0,   0,   0,\n",
       "       136, 253, 253, 253, 212, 135, 132,  16,   0,   0,   0,   0,   0,\n",
       "         0,   0,   0,   0,   0,   0,   0,   0,   0,   0,   0,   0,   0,\n",
       "         0,   0,   0,   0,   0,   0,   0,   0,   0,   0,   0,   0,   0,\n",
       "         0,   0,   0,   0,   0,   0,   0,   0,   0,   0,   0,   0,   0,\n",
       "         0,   0,   0,   0,   0,   0,   0,   0,   0,   0,   0,   0,   0,\n",
       "         0,   0,   0,   0,   0,   0,   0,   0,   0,   0,   0,   0,   0,\n",
       "         0,   0,   0,   0,   0,   0,   0,   0,   0,   0,   0,   0,   0,\n",
       "         0,   0,   0,   0,   0,   0,   0,   0,   0,   0,   0,   0,   0,\n",
       "         0,   0,   0,   0])"
      ]
     },
     "execution_count": 8,
     "metadata": {},
     "output_type": "execute_result"
    }
   ],
   "source": [
    "x_train_all[0]"
   ]
  },
  {
   "cell_type": "code",
   "execution_count": 9,
   "metadata": {},
   "outputs": [
    {
     "data": {
      "text/plain": [
       "array([5, 0, 4, 1, 9])"
      ]
     },
     "execution_count": 9,
     "metadata": {},
     "output_type": "execute_result"
    }
   ],
   "source": [
    "y_train_all[0:5]"
   ]
  },
  {
   "cell_type": "markdown",
   "metadata": {},
   "source": [
    "## Data Preprocessing"
   ]
  },
  {
   "cell_type": "code",
   "execution_count": 10,
   "metadata": {},
   "outputs": [],
   "source": [
    "# Re-scale (Machiene can easily learn in range 0-1 than 0-255)\n",
    "x_train_all , x_test = x_train_all/255 ,x_test/255"
   ]
  },
  {
   "cell_type": "markdown",
   "metadata": {},
   "source": [
    "### Convert target value to One-Hot Encoding"
   ]
  },
  {
   "cell_type": "code",
   "execution_count": 11,
   "metadata": {},
   "outputs": [
    {
     "data": {
      "text/plain": [
       "array([[0., 0., 0., 0., 0., 1., 0., 0., 0., 0.],\n",
       "       [1., 0., 0., 0., 0., 0., 0., 0., 0., 0.],\n",
       "       [0., 0., 0., 0., 1., 0., 0., 0., 0., 0.],\n",
       "       [0., 1., 0., 0., 0., 0., 0., 0., 0., 0.],\n",
       "       [0., 0., 0., 0., 0., 0., 0., 0., 0., 1.]])"
      ]
     },
     "execution_count": 11,
     "metadata": {},
     "output_type": "execute_result"
    }
   ],
   "source": [
    "# Array elemnet indexing using np.eye with return 1 as diagonal normally \n",
    "values = y_train_all[:5]\n",
    "np.eye(10)[values]"
   ]
  },
  {
   "cell_type": "code",
   "execution_count": 12,
   "metadata": {},
   "outputs": [],
   "source": [
    "y_train_all = np.eye(NR_CLASSES)[y_train_all]"
   ]
  },
  {
   "cell_type": "code",
   "execution_count": 13,
   "metadata": {},
   "outputs": [
    {
     "data": {
      "text/plain": [
       "(60000, 10)"
      ]
     },
     "execution_count": 13,
     "metadata": {},
     "output_type": "execute_result"
    }
   ],
   "source": [
    "y_train_all.shape"
   ]
  },
  {
   "cell_type": "code",
   "execution_count": 14,
   "metadata": {},
   "outputs": [],
   "source": [
    "y_test = np.eye(NR_CLASSES)[y_test]"
   ]
  },
  {
   "cell_type": "code",
   "execution_count": 15,
   "metadata": {},
   "outputs": [
    {
     "data": {
      "text/plain": [
       "(10000, 10)"
      ]
     },
     "execution_count": 15,
     "metadata": {},
     "output_type": "execute_result"
    }
   ],
   "source": [
    "y_test.shape"
   ]
  },
  {
   "cell_type": "markdown",
   "metadata": {},
   "source": [
    "### Create validation dataset from training data"
   ]
  },
  {
   "cell_type": "code",
   "execution_count": 16,
   "metadata": {},
   "outputs": [],
   "source": [
    "x_val = x_train_all[:VALIDATION_SIZE]\n",
    "y_val = y_train_all[:VALIDATION_SIZE]"
   ]
  },
  {
   "cell_type": "code",
   "execution_count": 17,
   "metadata": {},
   "outputs": [],
   "source": [
    "x_train = x_train_all[VALIDATION_SIZE:]\n",
    "y_train = y_train_all[VALIDATION_SIZE:]"
   ]
  },
  {
   "cell_type": "code",
   "execution_count": 18,
   "metadata": {},
   "outputs": [
    {
     "data": {
      "text/plain": [
       "(50000, 784)"
      ]
     },
     "execution_count": 18,
     "metadata": {},
     "output_type": "execute_result"
    }
   ],
   "source": [
    "x_train.shape"
   ]
  },
  {
   "cell_type": "code",
   "execution_count": 19,
   "metadata": {},
   "outputs": [
    {
     "data": {
      "text/plain": [
       "(10000, 784)"
      ]
     },
     "execution_count": 19,
     "metadata": {},
     "output_type": "execute_result"
    }
   ],
   "source": [
    "x_val.shape"
   ]
  },
  {
   "cell_type": "markdown",
   "metadata": {},
   "source": [
    "## Setup Tensorflow Graph"
   ]
  },
  {
   "cell_type": "code",
   "execution_count": 20,
   "metadata": {},
   "outputs": [],
   "source": [
    "X = tf.placeholder(tf.float32,shape=[None,TOTAL_INPUTS])\n",
    "Y = tf.placeholder(tf.float32,shape=[None,NR_CLASSES])"
   ]
  },
  {
   "cell_type": "markdown",
   "metadata": {},
   "source": [
    "### Hyperparameters"
   ]
  },
  {
   "cell_type": "code",
   "execution_count": 21,
   "metadata": {},
   "outputs": [],
   "source": [
    "nr_epochs = 25\n",
    "learning_rate = 1e-3\n",
    "\n",
    "n_hidden1 = 512\n",
    "n_hidden2 = 128\n",
    "n_hidden3 = 32"
   ]
  },
  {
   "cell_type": "code",
   "execution_count": 22,
   "metadata": {},
   "outputs": [],
   "source": [
    "#giving weights to the hidden layer 1\n",
    "initial_w1 = tf.truncated_normal(shape=[TOTAL_INPUTS,n_hidden1],stddev=0.1,seed=42)\n",
    "#creating a variable to hold weights because it has to hold new values again not perssitent to  initial values\n",
    "w1 = tf.Variable(initial_value = initial_w1)"
   ]
  },
  {
   "cell_type": "code",
   "execution_count": 23,
   "metadata": {},
   "outputs": [],
   "source": [
    "#giving bias to the hidden layer 1\n",
    "initial_b1 = tf.constant(value=0.0,shape=[n_hidden1])\n",
    "#creating a variable to hold bias because it has to hold new values again not perssitent to  initial values\n",
    "b1 = tf.Variable(initial_value = initial_b1)"
   ]
  },
  {
   "cell_type": "code",
   "execution_count": 24,
   "metadata": {},
   "outputs": [
    {
     "data": {
      "text/plain": [
       "<tf.Variable 'Variable_1:0' shape=(512,) dtype=float32_ref>"
      ]
     },
     "execution_count": 24,
     "metadata": {},
     "output_type": "execute_result"
    }
   ],
   "source": [
    "#cant see the values given to weights as tensorflow is two stage process.first setup only...\n",
    "#initial_w1\n",
    "#w1\n",
    "#initial_b1\n",
    "b1"
   ]
  },
  {
   "cell_type": "code",
   "execution_count": 25,
   "metadata": {},
   "outputs": [],
   "source": [
    "layer1_in = tf.matmul(X,w1) + b1"
   ]
  },
  {
   "cell_type": "code",
   "execution_count": 26,
   "metadata": {},
   "outputs": [],
   "source": [
    "layer1_out = tf.nn.relu(layer1_in)"
   ]
  },
  {
   "cell_type": "code",
   "execution_count": 27,
   "metadata": {},
   "outputs": [],
   "source": [
    "#FOR LAYER 2\n",
    "\n",
    "initial_w2 = tf.truncated_normal(shape=[n_hidden1,n_hidden2],stddev=0.1,seed=42)\n",
    "w2 = tf.Variable(initial_value = initial_w2)\n",
    "\n",
    "initial_b2 = tf.constant(value=0.0,shape=[n_hidden2])\n",
    "b2 = tf.Variable(initial_value = initial_b2)\n",
    "\n",
    "layer2_in = tf.matmul(layer1_out,w2) + b2\n",
    "\n",
    "layer2_out = tf.nn.relu(layer2_in)"
   ]
  },
  {
   "cell_type": "code",
   "execution_count": 28,
   "metadata": {},
   "outputs": [],
   "source": [
    "#FOR LAYER 3\n",
    "\n",
    "initial_w3 = tf.truncated_normal(shape=[n_hidden2,n_hidden3],stddev=0.1,seed=42)\n",
    "w3 = tf.Variable(initial_value = initial_w3)\n",
    "\n",
    "initial_b3 = tf.constant(value=0.0,shape=[n_hidden3])\n",
    "b3 = tf.Variable(initial_value = initial_b3)\n",
    "\n",
    "layer3_in = tf.matmul(layer2_out,w3) + b3\n",
    "\n",
    "layer3_out = tf.nn.relu(layer3_in)"
   ]
  },
  {
   "cell_type": "code",
   "execution_count": 29,
   "metadata": {},
   "outputs": [],
   "source": [
    "#FOR LAYER 4(OUT LAYER)\n",
    "\n",
    "initial_w4 = tf.truncated_normal(shape=[n_hidden3,NR_CLASSES],stddev=0.1,seed=42)\n",
    "w4 = tf.Variable(initial_value = initial_w4)\n",
    "\n",
    "initial_b4 = tf.constant(value=0.0,shape=[NR_CLASSES])\n",
    "b4 = tf.Variable(initial_value = initial_b4)\n",
    "\n",
    "layer4_in = tf.matmul(layer3_out,w4) + b4\n",
    "\n",
    "#As this is the last layer we need to use softmax rather than relu beacuse we need to get results in probability\n",
    "output = tf.nn.softmax(layer4_in)"
   ]
  },
  {
   "cell_type": "markdown",
   "metadata": {},
   "source": [
    "## Tensorboard Setup"
   ]
  },
  {
   "cell_type": "code",
   "execution_count": 30,
   "metadata": {},
   "outputs": [
    {
     "name": "stdout",
     "output_type": "stream",
     "text": [
      "Successfully created directories!\n"
     ]
    }
   ],
   "source": [
    "# Folder for Tensorboard\n",
    "timestr = time.strftime(\"%m %d - %H %M %S\")\n",
    "folder_name = \"Model 1 at \" +  timestr \n",
    "directory = os.path.join(LOGGING_PATH, folder_name)\n",
    "try:\n",
    "    os.makedirs(directory)\n",
    "except OSError as exception:\n",
    "    print(exception.strerror)\n",
    "else:\n",
    "    print('Successfully created directories!')"
   ]
  },
  {
   "cell_type": "markdown",
   "metadata": {},
   "source": [
    "## Loss,Optimisation & Metrics"
   ]
  },
  {
   "cell_type": "markdown",
   "metadata": {},
   "source": [
    "### Loss"
   ]
  },
  {
   "cell_type": "code",
   "execution_count": 31,
   "metadata": {},
   "outputs": [],
   "source": [
    "# we will caluclaue the loss batch wise so we take reduced mean of them\n",
    "loss = tf.reduce_mean(tf.nn.softmax_cross_entropy_with_logits_v2(labels=Y,logits=output))"
   ]
  },
  {
   "cell_type": "markdown",
   "metadata": {},
   "source": [
    "### Optimizer"
   ]
  },
  {
   "cell_type": "code",
   "execution_count": 32,
   "metadata": {},
   "outputs": [],
   "source": [
    "#we are storing train_step so that we can run many times in loop can reduce loss\n",
    "optimizer = tf.train.AdamOptimizer(learning_rate)\n",
    "train_step = optimizer.minimize(loss)"
   ]
  },
  {
   "cell_type": "markdown",
   "metadata": {},
   "source": [
    "### Accuracy"
   ]
  },
  {
   "cell_type": "code",
   "execution_count": 33,
   "metadata": {},
   "outputs": [
    {
     "name": "stdout",
     "output_type": "stream",
     "text": [
      "Tensor(\"Mean_1:0\", shape=(), dtype=float32)\n"
     ]
    }
   ],
   "source": [
    "#we cant apply the equal function on Y and output we need to find highest prob or value row-wise so argmax,axis is used\n",
    "correct_predictions = tf.equal(tf.argmax(Y,axis = 1),tf.argmax(output,axis = 1))\n",
    "accuracy = tf.reduce_mean(tf.cast(correct_predictions,tf.float32))\n",
    "print(accuracy)"
   ]
  },
  {
   "cell_type": "code",
   "execution_count": 34,
   "metadata": {},
   "outputs": [],
   "source": [
    "TP = tf.count_nonzero(tf.argmax(output,axis = 1) * tf.argmax(Y,axis = 1))\n",
    "TN = tf.count_nonzero((tf.argmax(output,axis = 1) - 1) * (tf.argmax(Y,axis = 1) - 1))\n",
    "FP = tf.count_nonzero(tf.argmax(output,axis = 1) * (tf.argmax(Y,axis = 1) - 1))\n",
    "FN = tf.count_nonzero((tf.argmax(output,axis = 1) - 1) * tf.argmax(Y,axis = 1))"
   ]
  },
  {
   "cell_type": "code",
   "execution_count": 35,
   "metadata": {},
   "outputs": [
    {
     "data": {
      "text/plain": [
       "<tf.Tensor 'FN:0' shape=() dtype=string>"
      ]
     },
     "execution_count": 35,
     "metadata": {},
     "output_type": "execute_result"
    }
   ],
   "source": [
    "tf.summary.scalar('accuracy',accuracy)\n",
    "tf.summary.scalar('TP',TP)\n",
    "tf.summary.scalar('TN',TN)\n",
    "tf.summary.scalar('FP',FP)\n",
    "tf.summary.scalar('FN',FN)"
   ]
  },
  {
   "cell_type": "markdown",
   "metadata": {},
   "source": [
    "## Run Session"
   ]
  },
  {
   "cell_type": "code",
   "execution_count": 36,
   "metadata": {},
   "outputs": [],
   "source": [
    "# all the above caluculations will work only inside session\n",
    "sess = tf.Session()"
   ]
  },
  {
   "cell_type": "markdown",
   "metadata": {},
   "source": [
    "### Setup FileWriter and merge Summaries"
   ]
  },
  {
   "cell_type": "code",
   "execution_count": 37,
   "metadata": {},
   "outputs": [],
   "source": [
    "merged_summary = tf.summary.merge_all()\n",
    "\n",
    "train_writer = tf.summary.FileWriter(directory + '//train')\n",
    "train_writer.add_graph(sess.graph)"
   ]
  },
  {
   "cell_type": "markdown",
   "metadata": {},
   "source": [
    "### Initialise all the variables"
   ]
  },
  {
   "cell_type": "code",
   "execution_count": 38,
   "metadata": {},
   "outputs": [],
   "source": [
    "init = tf.global_variables_initializer()\n",
    "sess.run(init)"
   ]
  },
  {
   "cell_type": "code",
   "execution_count": 39,
   "metadata": {},
   "outputs": [
    {
     "data": {
      "text/plain": [
       "array([0., 0., 0., 0., 0., 0., 0., 0., 0., 0.], dtype=float32)"
      ]
     },
     "execution_count": 39,
     "metadata": {},
     "output_type": "execute_result"
    }
   ],
   "source": [
    "b4.eval(sess)"
   ]
  },
  {
   "cell_type": "code",
   "execution_count": 40,
   "metadata": {},
   "outputs": [
    {
     "data": {
      "text/plain": [
       "array([[-3.18106147e-03, -1.11486413e-01, -9.49865803e-02,\n",
       "         7.68418461e-02,  1.08649693e-01, -6.12520836e-02,\n",
       "        -1.04762278e-01, -2.25129779e-02,  9.10906941e-02,\n",
       "         1.03176966e-01],\n",
       "       [-1.33157104e-01,  1.90708023e-02, -9.62553546e-02,\n",
       "        -1.58192348e-02,  7.53587633e-02, -1.52259618e-01,\n",
       "        -2.69646496e-02, -4.61504422e-02,  7.01877428e-03,\n",
       "         1.06800616e-01],\n",
       "       [-2.57340651e-02,  1.70168981e-01, -8.78938735e-02,\n",
       "        -7.24191591e-02,  3.18428851e-03,  1.02812193e-01,\n",
       "         1.23762123e-01, -1.06094144e-01, -1.06514748e-02,\n",
       "         5.77867143e-02],\n",
       "       [ 1.57123566e-01,  7.45584443e-02, -5.10990731e-02,\n",
       "         1.21266425e-01, -1.10661365e-01, -1.39461622e-01,\n",
       "        -1.79006085e-01, -4.23159339e-02, -1.59507412e-02,\n",
       "        -1.07646873e-02],\n",
       "       [-9.14043188e-02,  4.95505426e-03,  1.11035541e-01,\n",
       "         1.42057642e-01,  1.46209702e-01,  1.08048610e-01,\n",
       "        -1.90712079e-01,  6.38896748e-02,  1.56001672e-01,\n",
       "        -2.40597036e-02],\n",
       "       [ 9.74628702e-02,  5.29630966e-02,  1.03324261e-02,\n",
       "         6.03645220e-02, -1.61114573e-01,  7.29997009e-02,\n",
       "         1.15539186e-01,  1.21453844e-01, -1.52370974e-01,\n",
       "         8.38886052e-02],\n",
       "       [-1.77811608e-01, -6.17456436e-02, -4.45393398e-02,\n",
       "        -9.65488479e-02, -7.68217668e-02,  7.72020370e-02,\n",
       "         7.33077750e-02, -2.40318216e-02, -3.00575383e-02,\n",
       "        -1.34064153e-01],\n",
       "       [ 1.12869225e-01,  8.23446438e-02, -2.14292593e-02,\n",
       "         1.45084143e-01,  9.48783606e-02, -3.64730321e-02,\n",
       "         1.53965680e-02, -9.35930759e-02,  1.73927937e-02,\n",
       "         6.86294958e-02],\n",
       "       [ 4.40588547e-03, -4.00120169e-02,  7.01736957e-02,\n",
       "        -8.01147521e-02,  3.85069177e-02, -1.50059626e-01,\n",
       "         1.72740500e-02,  8.47760439e-02, -6.76322505e-02,\n",
       "        -1.74384639e-02],\n",
       "       [ 1.08017206e-01, -2.62021869e-02, -1.25245571e-01,\n",
       "         1.10545591e-01, -9.47829802e-04, -1.12782322e-01,\n",
       "        -9.80549827e-02, -4.98659275e-02, -1.54305873e-02,\n",
       "        -3.48818908e-03],\n",
       "       [ 1.21346693e-02,  8.48570932e-03, -8.34953114e-02,\n",
       "        -9.23258588e-02, -5.97066991e-02,  2.78345612e-03,\n",
       "         6.70303926e-02, -1.02716923e-01, -2.25574113e-02,\n",
       "         1.11948873e-03],\n",
       "       [-7.85885379e-02,  1.93825245e-01,  2.53941510e-02,\n",
       "        -7.59266987e-02, -1.81983095e-02,  1.11968508e-02,\n",
       "        -3.58658247e-02, -5.89096509e-02, -1.56556770e-01,\n",
       "        -7.60224974e-03],\n",
       "       [ 3.06203943e-02, -2.11220533e-02,  1.43561438e-02,\n",
       "         8.22270736e-02,  2.04828251e-02,  5.01997434e-02,\n",
       "        -3.81964594e-02, -9.78105888e-02,  9.19174403e-02,\n",
       "        -1.21303372e-01],\n",
       "       [ 5.61425928e-03,  2.31692772e-02, -1.57154515e-01,\n",
       "        -1.03814304e-01,  6.69835582e-02, -8.03626627e-02,\n",
       "         1.54279992e-01, -1.52293239e-02,  1.00344699e-02,\n",
       "         1.44038815e-02],\n",
       "       [ 2.40667518e-02, -8.58651400e-02,  9.68738720e-02,\n",
       "         3.56890187e-02,  1.66255429e-01, -6.18482120e-02,\n",
       "         9.77571681e-02,  5.35963178e-02, -1.69914111e-01,\n",
       "        -3.79719846e-02],\n",
       "       [ 1.69809103e-01,  1.39805436e-01,  1.09547200e-02,\n",
       "         6.35804906e-02,  4.78736274e-02,  5.00355363e-02,\n",
       "         1.57678425e-02,  6.35144189e-02, -7.90302604e-02,\n",
       "        -7.20919073e-02],\n",
       "       [ 3.69540453e-02, -2.93955654e-02, -2.15844102e-02,\n",
       "        -7.49609247e-02, -6.79442734e-02,  7.99636766e-02,\n",
       "        -1.40532497e-02, -5.16138747e-02,  1.26676843e-01,\n",
       "        -9.64106098e-02],\n",
       "       [ 3.22791226e-02,  4.64040861e-02, -7.74010271e-02,\n",
       "        -4.60735150e-02, -1.63632948e-02, -1.49525568e-01,\n",
       "        -5.58728948e-02,  5.18519618e-03, -7.66378567e-02,\n",
       "         6.51206449e-02],\n",
       "       [-1.57705997e-03, -1.06026448e-01,  1.26996204e-01,\n",
       "        -8.41773003e-02,  7.34463185e-02, -6.72124922e-02,\n",
       "        -1.91609468e-02,  4.65218686e-02, -1.09363995e-01,\n",
       "        -9.14953128e-02],\n",
       "       [-2.62230728e-02, -3.81099842e-02, -1.14954211e-01,\n",
       "         1.16878776e-02, -1.82935938e-01, -4.69445065e-02,\n",
       "         1.69275012e-02,  9.62979123e-02,  8.49291980e-02,\n",
       "        -1.34413019e-01],\n",
       "       [ 3.13462615e-02, -1.12535991e-01,  4.65609878e-02,\n",
       "         1.73611268e-02,  5.72450412e-03, -1.04354084e-01,\n",
       "        -1.63200602e-01,  1.19367026e-01,  1.20822154e-01,\n",
       "         4.47346196e-02],\n",
       "       [ 1.14533499e-01,  7.76565596e-02,  1.55360669e-01,\n",
       "         2.26884522e-02, -3.90832603e-04, -4.94137891e-02,\n",
       "        -1.05514564e-01, -1.30503729e-01,  1.14605643e-01,\n",
       "         9.57567543e-02],\n",
       "       [ 1.33109421e-01, -3.32990624e-02,  2.47676969e-02,\n",
       "        -4.66644876e-02, -9.94256064e-02, -1.29060492e-01,\n",
       "        -7.54569024e-02, -2.85736402e-03,  1.20883822e-01,\n",
       "        -4.85040322e-02],\n",
       "       [ 1.00079976e-01, -7.89675191e-02, -7.35226972e-03,\n",
       "        -5.24670165e-03, -5.19111018e-05,  1.20475255e-01,\n",
       "        -1.94982871e-01,  4.31688614e-02, -4.24712487e-02,\n",
       "         9.53012630e-02],\n",
       "       [-1.72232706e-02, -6.04441874e-02, -1.18000291e-01,\n",
       "        -3.97675298e-03,  4.69416901e-02, -2.91684624e-02,\n",
       "        -5.94275892e-02,  5.73265366e-02,  2.78768372e-02,\n",
       "         4.05721413e-03],\n",
       "       [ 1.14342133e-02,  1.30092591e-01, -9.53121390e-03,\n",
       "         1.13319643e-02, -1.76386312e-02, -1.32686691e-02,\n",
       "         1.23857427e-02,  7.66011253e-02,  2.16227695e-02,\n",
       "         3.21256705e-02],\n",
       "       [ 8.36795792e-02,  1.54196024e-01,  1.32821143e-01,\n",
       "         1.99210066e-02, -1.76646858e-02,  3.97590511e-02,\n",
       "         1.22185387e-02, -1.36179909e-01,  1.45134136e-01,\n",
       "        -1.58546641e-02],\n",
       "       [ 7.07769021e-02,  6.33178577e-02, -4.64717001e-02,\n",
       "         1.21961035e-01,  9.02661234e-02, -1.11417793e-01,\n",
       "         1.86548099e-01,  4.61687259e-02,  1.53756604e-01,\n",
       "         7.34914318e-02],\n",
       "       [ 1.01322189e-01,  3.51106673e-02,  7.98386261e-02,\n",
       "        -1.91373274e-01,  1.83168538e-02,  4.12876792e-02,\n",
       "        -6.78593665e-02,  3.61498222e-02, -8.62260684e-02,\n",
       "        -8.39251801e-02],\n",
       "       [ 3.63406055e-02,  2.86105778e-02, -2.00024378e-02,\n",
       "        -1.70419633e-01, -2.97964942e-02, -1.49171561e-01,\n",
       "         1.32922400e-02, -6.89237043e-02,  5.05661732e-03,\n",
       "        -5.49832592e-03],\n",
       "       [ 8.66535529e-02, -1.35960579e-01, -1.60408452e-01,\n",
       "        -4.18342603e-03, -9.94577557e-02,  4.21591289e-02,\n",
       "        -1.88627854e-01, -1.39580816e-01, -7.73341656e-02,\n",
       "         1.05401479e-01],\n",
       "       [-9.69741940e-02,  1.83926806e-01, -1.98439613e-01,\n",
       "         1.07485570e-01, -1.94988653e-01, -1.18641041e-01,\n",
       "         2.79150408e-04,  1.57323163e-02, -1.02787234e-01,\n",
       "         7.19784424e-02]], dtype=float32)"
      ]
     },
     "execution_count": 40,
     "metadata": {},
     "output_type": "execute_result"
    }
   ],
   "source": [
    "w4.eval(sess)"
   ]
  },
  {
   "cell_type": "markdown",
   "metadata": {},
   "source": [
    "## Batching the Data"
   ]
  },
  {
   "cell_type": "code",
   "execution_count": 41,
   "metadata": {},
   "outputs": [],
   "source": [
    "size_of_batch = 2000"
   ]
  },
  {
   "cell_type": "code",
   "execution_count": 42,
   "metadata": {},
   "outputs": [],
   "source": [
    "num_examples = y_train.shape[0]\n",
    "\n",
    "nr_iterations = int(num_examples/size_of_batch)\n",
    "\n",
    "index_in_epoch = 0"
   ]
  },
  {
   "cell_type": "code",
   "execution_count": 43,
   "metadata": {},
   "outputs": [],
   "source": [
    "def next_batch(batch_size, data, labels):\n",
    "    \n",
    "    global num_examples\n",
    "    global index_in_epoch\n",
    "    \n",
    "    start = index_in_epoch\n",
    "    index_in_epoch += batch_size\n",
    "    \n",
    "    if index_in_epoch > num_examples:\n",
    "        start = 0\n",
    "        index_in_epoch = batch_size\n",
    "    \n",
    "    end = index_in_epoch\n",
    "    \n",
    "    return data[start:end], labels[start:end]"
   ]
  },
  {
   "cell_type": "markdown",
   "metadata": {},
   "source": [
    "## Training Loop"
   ]
  },
  {
   "cell_type": "code",
   "execution_count": 44,
   "metadata": {
    "scrolled": true
   },
   "outputs": [
    {
     "name": "stdout",
     "output_type": "stream",
     "text": [
      "[0.742]\n",
      "[0.7735]\n",
      "[0.8755]\n",
      "[0.8865]\n",
      "[0.889]\n",
      "[0.8925]\n",
      "[0.894]\n",
      "[0.894]\n",
      "[0.896]\n",
      "[0.8955]\n",
      "[0.8955]\n",
      "[0.898]\n",
      "[0.898]\n",
      "[0.8995]\n",
      "[0.9005]\n",
      "[0.901]\n",
      "[0.902]\n",
      "[0.9035]\n",
      "[0.9825]\n",
      "[0.986]\n",
      "[0.987]\n",
      "[0.9895]\n",
      "[0.991]\n",
      "[0.992]\n",
      "[0.993]\n",
      "Done Training!\n"
     ]
    }
   ],
   "source": [
    "for epoch in range(nr_epochs):\n",
    "    for i in range(nr_iterations):\n",
    "        batch_x, batch_y = next_batch(batch_size=size_of_batch, data=x_train, labels=y_train)\n",
    "        feed_dictionary = {X:batch_x, Y:batch_y}\n",
    "        sess.run(train_step, feed_dict=feed_dictionary)\n",
    "    batch_accuracy = sess.run(fetches=[accuracy], feed_dict=feed_dictionary)\n",
    "    print(batch_accuracy)\n",
    "print('Done Training!')         "
   ]
  },
  {
   "cell_type": "code",
   "execution_count": 45,
   "metadata": {},
   "outputs": [
    {
     "name": "stdout",
     "output_type": "stream",
     "text": [
      "0.9723\n"
     ]
    }
   ],
   "source": [
    "test_accuracy = sess.run(fetches=accuracy, feed_dict={X:x_test, Y:y_test})\n",
    "print(test_accuracy)"
   ]
  },
  {
   "cell_type": "markdown",
   "metadata": {},
   "source": [
    "## Reset for the Next Run"
   ]
  },
  {
   "cell_type": "code",
   "execution_count": 46,
   "metadata": {},
   "outputs": [],
   "source": [
    "train_writer.close()\n",
    "sess.close()\n",
    "tf.reset_default_graph()"
   ]
  },
  {
   "cell_type": "code",
   "execution_count": 47,
   "metadata": {},
   "outputs": [
    {
     "ename": "NameError",
     "evalue": "name 'plt' is not defined",
     "output_type": "error",
     "traceback": [
      "\u001b[1;31m---------------------------------------------------------------------------\u001b[0m",
      "\u001b[1;31mNameError\u001b[0m                                 Traceback (most recent call last)",
      "\u001b[1;32m<ipython-input-47-e690a237f4e6>\u001b[0m in \u001b[0;36m<module>\u001b[1;34m\u001b[0m\n\u001b[1;32m----> 1\u001b[1;33m \u001b[0mplt\u001b[0m\u001b[1;33m.\u001b[0m\u001b[0mfigure\u001b[0m\u001b[1;33m(\u001b[0m\u001b[0mfigsize\u001b[0m\u001b[1;33m=\u001b[0m\u001b[1;33m(\u001b[0m\u001b[1;36m7\u001b[0m\u001b[1;33m,\u001b[0m\u001b[1;36m7\u001b[0m\u001b[1;33m)\u001b[0m\u001b[1;33m,\u001b[0m \u001b[0mdpi\u001b[0m\u001b[1;33m=\u001b[0m\u001b[1;36m95\u001b[0m\u001b[1;33m)\u001b[0m\u001b[1;33m\u001b[0m\u001b[0m\n\u001b[0m\u001b[0;32m      2\u001b[0m \u001b[0mplt\u001b[0m\u001b[1;33m.\u001b[0m\u001b[0mimshow\u001b[0m\u001b[1;33m(\u001b[0m\u001b[0mconf_matrix\u001b[0m\u001b[1;33m,\u001b[0m \u001b[0mcmap\u001b[0m\u001b[1;33m=\u001b[0m\u001b[0mplt\u001b[0m\u001b[1;33m.\u001b[0m\u001b[0mcm\u001b[0m\u001b[1;33m.\u001b[0m\u001b[0mGreens\u001b[0m\u001b[1;33m)\u001b[0m\u001b[1;33m\u001b[0m\u001b[0m\n\u001b[0;32m      3\u001b[0m \u001b[1;33m\u001b[0m\u001b[0m\n\u001b[0;32m      4\u001b[0m \u001b[0mplt\u001b[0m\u001b[1;33m.\u001b[0m\u001b[0mtitle\u001b[0m\u001b[1;33m(\u001b[0m\u001b[1;34m'Confusion Matrix'\u001b[0m\u001b[1;33m,\u001b[0m \u001b[0mfontsize\u001b[0m\u001b[1;33m=\u001b[0m\u001b[1;36m16\u001b[0m\u001b[1;33m)\u001b[0m\u001b[1;33m\u001b[0m\u001b[0m\n\u001b[0;32m      5\u001b[0m \u001b[0mplt\u001b[0m\u001b[1;33m.\u001b[0m\u001b[0mylabel\u001b[0m\u001b[1;33m(\u001b[0m\u001b[1;34m'Actual Labels'\u001b[0m\u001b[1;33m,\u001b[0m \u001b[0mfontsize\u001b[0m\u001b[1;33m=\u001b[0m\u001b[1;36m12\u001b[0m\u001b[1;33m)\u001b[0m\u001b[1;33m\u001b[0m\u001b[0m\n",
      "\u001b[1;31mNameError\u001b[0m: name 'plt' is not defined"
     ]
    }
   ],
   "source": [
    "# plt.figure(figsize=(7,7), dpi=95)\n",
    "# plt.imshow(conf_matrix, cmap=plt.cm.Greens)\n",
    "\n",
    "# plt.title('Confusion Matrix', fontsize=16)\n",
    "# plt.ylabel('Actual Labels', fontsize=12)\n",
    "# plt.xlabel('Predicted Labels', fontsize=12)\n",
    "\n",
    "# tick_marks = np.arange(NR_CLASSES)\n",
    "# plt.yticks(tick_marks, LABEL_NAMES)\n",
    "# plt.xticks(tick_marks, LABEL_NAMES)\n",
    "\n",
    "# plt.colorbar()\n",
    "\n",
    "# for i, j in itertools.product(range(nr_rows), range(nr_cols)):\n",
    "#     plt.text(j, i, conf_matrix[i, j], horizontalalignment='center',\n",
    "#             color='white' if conf_matrix[i, j] > conf_matrix.max()/2 else 'black')\n",
    "    \n",
    "\n",
    "# plt.show()"
   ]
  },
  {
   "cell_type": "code",
   "execution_count": null,
   "metadata": {},
   "outputs": [],
   "source": [
    "# import seaborn as sn\n",
    "# import pandas as pd\n",
    "# import matplotlib.pyplot as plt\n",
    "# array = [895, 9, 8, 0, 4, 6, 8, 3, 8, 5], \n",
    "# \t[2, 1007, 6, 1, 4, 2, 3, 9, 5, 9], \n",
    "# \t[1, 3, 918, 4, 8, 3, 5, 7, 1, 7], \n",
    "# \t[4, 3, 1, 1028, 3, 2, 7, 4, 2, 4], \n",
    "# \t[2, 3, 0, 8, 956, 3, 5, 1, 3, 2], \n",
    "# \t[0, 2, 3, 4, 6, 816, 2, 3, 2, 11], \n",
    "# \t[6, 1, 2, 3, 4, 7, 972, 2, 4, 2], \n",
    "# \t[0, 1, 2, 4, 7, 3, 5, 1014, 3, 10], \n",
    "# \t[6, 3, 2, 1, 3, 2, 3, 6, 945, 2], \n",
    "# \t[3, 1, 2, 3, 0, 2, 5, 0, 4, 1116]\n",
    "# ]\n",
    "# df_cm = pd.DataFrame(array, index = [i for i in \"0123456789\"],\n",
    "#                   columns = [i for i in \"0123456789\"])\n",
    "# plt.figure(figsize = (10,7))\n",
    "# sn.heatmap(df_cm, annot=True)"
   ]
  },
  {
   "cell_type": "code",
   "execution_count": null,
   "metadata": {},
   "outputs": [],
   "source": [
    "# import seaborn as sn"
   ]
  }
 ],
 "metadata": {
  "kernelspec": {
   "display_name": "Python 3",
   "language": "python",
   "name": "python3"
  },
  "language_info": {
   "codemirror_mode": {
    "name": "ipython",
    "version": 3
   },
   "file_extension": ".py",
   "mimetype": "text/x-python",
   "name": "python",
   "nbconvert_exporter": "python",
   "pygments_lexer": "ipython3",
   "version": "3.5.6"
  }
 },
 "nbformat": 4,
 "nbformat_minor": 2
}
